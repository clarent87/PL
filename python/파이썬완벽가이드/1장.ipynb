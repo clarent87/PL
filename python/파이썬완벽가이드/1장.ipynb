{
 "metadata": {
  "language_info": {
   "codemirror_mode": {
    "name": "ipython",
    "version": 3
   },
   "file_extension": ".py",
   "mimetype": "text/x-python",
   "name": "python",
   "nbconvert_exporter": "python",
   "pygments_lexer": "ipython3",
   "version": "3.7.7"
  },
  "orig_nbformat": 4,
  "kernelspec": {
   "name": "python3",
   "display_name": "Python 3.7.7 64-bit ('py3': conda)"
  },
  "interpreter": {
   "hash": "79ff811a7f02f16873b0675621ecd9a947b7a6f4e8d68254a9957f364459d15e"
  }
 },
 "nbformat": 4,
 "nbformat_minor": 2,
 "cells": [
  {
   "source": [
    "# chapter1"
   ],
   "cell_type": "markdown",
   "metadata": {}
  },
  {
   "source": [
    "1장은 기본 내용들인데, 그중 기억할만한 것들을 위주로 정리.  \n",
    "예제는 py2기반"
   ],
   "cell_type": "markdown",
   "metadata": {}
  },
  {
   "source": [
    "`_` 는 대화식 모드에서 직전 결과값을 가지고 있다. "
   ],
   "cell_type": "markdown",
   "metadata": {}
  },
  {
   "cell_type": "code",
   "execution_count": null,
   "metadata": {},
   "outputs": [],
   "source": [
    "p = 100 ; a = p ; print(a) # ; 로나누어서 여려줄에 문장을 써줄수 있다. "
   ]
  }
 ]
}